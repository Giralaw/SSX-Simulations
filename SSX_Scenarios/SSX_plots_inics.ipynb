{
 "cells": [
  {
   "cell_type": "code",
   "execution_count": 2,
   "id": "7cbed3f7",
   "metadata": {},
   "outputs": [],
   "source": [
    "import matplotlib.pyplot as plt\n",
    "import numpy as np\n",
    "import h5py"
   ]
  },
  {
   "cell_type": "code",
   "execution_count": 20,
   "id": "2f82f45d",
   "metadata": {},
   "outputs": [],
   "source": [
    "df = h5py.File(\"scratch/checkpoints2/checkpoints2_s10.h5\",'r')\n",
    "df_fields = h5py.File(\"scratch/fields_two/fields_two_s1.h5\",'r')"
   ]
  },
  {
   "cell_type": "code",
   "execution_count": 21,
   "id": "1abdaafd",
   "metadata": {},
   "outputs": [],
   "source": [
    "lnrho = df['tasks/lnrho'][:]"
   ]
  },
  {
   "cell_type": "code",
   "execution_count": 5,
   "id": "475fc31e",
   "metadata": {},
   "outputs": [],
   "source": [
    "rho_fields = df_fields['tasks/rho'][:]"
   ]
  },
  {
   "cell_type": "code",
   "execution_count": 6,
   "id": "6a7fed88",
   "metadata": {},
   "outputs": [
    {
     "data": {
      "text/plain": [
       "<KeysViewHDF5 ['A', 'T', 'lnrho', 'phi', 'tau_A', 'v']>"
      ]
     },
     "execution_count": 6,
     "metadata": {},
     "output_type": "execute_result"
    }
   ],
   "source": [
    "df['tasks'].keys()"
   ]
  },
  {
   "cell_type": "code",
   "execution_count": 18,
   "id": "de95165c",
   "metadata": {},
   "outputs": [],
   "source": [
    "rho = np.exp(lnrho)"
   ]
  },
  {
   "cell_type": "code",
   "execution_count": 22,
   "id": "4d9ec474",
   "metadata": {},
   "outputs": [
    {
     "data": {
      "text/plain": [
       "0.009456379939112379"
      ]
     },
     "execution_count": 22,
     "metadata": {},
     "output_type": "execute_result"
    }
   ],
   "source": [
    "rho.min()"
   ]
  },
  {
   "cell_type": "code",
   "execution_count": 9,
   "id": "59bf9fa2",
   "metadata": {},
   "outputs": [
    {
     "data": {
      "text/plain": [
       "-4.5400563786356685"
      ]
     },
     "execution_count": 9,
     "metadata": {},
     "output_type": "execute_result"
    }
   ],
   "source": [
    "rho_fields.min()"
   ]
  },
  {
   "cell_type": "code",
   "execution_count": 10,
   "id": "e9ac5f68",
   "metadata": {},
   "outputs": [
    {
     "data": {
      "text/plain": [
       "array([0.12324073, 0.12517868, 0.12711663, 0.12905458, 0.13099253,\n",
       "       0.13293048, 0.13486843, 0.13680638, 0.13874433, 0.14068228])"
      ]
     },
     "execution_count": 10,
     "metadata": {},
     "output_type": "execute_result"
    }
   ],
   "source": [
    "df['scales/sim_time'][:]"
   ]
  },
  {
   "cell_type": "code",
   "execution_count": 11,
   "id": "fa670b4d",
   "metadata": {},
   "outputs": [
    {
     "data": {
      "text/plain": [
       "array([70, 71, 72, 73, 74, 75, 76, 77, 78, 79], dtype=int64)"
      ]
     },
     "execution_count": 11,
     "metadata": {},
     "output_type": "execute_result"
    }
   ],
   "source": [
    "df['scales/iteration'][:]"
   ]
  },
  {
   "cell_type": "code",
   "execution_count": 12,
   "id": "a4716a40",
   "metadata": {},
   "outputs": [
    {
     "data": {
      "text/plain": [
       "array([  0,   1,   2,   3,   4,   5,   6,   7,   8,   9,  10,  11,  12,\n",
       "        13,  14,  15,  16,  17,  18,  19,  20,  21,  22,  23,  24,  25,\n",
       "        26,  27,  28,  29,  30,  31,  32,  33,  34,  35,  36,  37,  38,\n",
       "        39,  40,  41,  42,  43,  44,  45,  46,  47,  48,  49,  50,  51,\n",
       "        52,  53,  54,  55,  56,  57,  58,  59,  60,  61,  62,  63,  64,\n",
       "        65,  66,  67,  68,  69,  70,  71,  72,  73,  74,  75,  76,  77,\n",
       "        78,  79,  80,  81,  82,  83,  84,  85,  86,  87,  88,  89,  90,\n",
       "        91,  92,  93,  94,  95,  96,  97,  98,  99, 100, 101, 102, 103,\n",
       "       104, 105, 106, 107, 108, 109, 110, 111, 112, 113, 114, 115, 116,\n",
       "       117, 118, 119, 120, 121, 122, 123, 124, 125, 126, 127, 128, 129,\n",
       "       130, 131, 132, 133, 134, 135, 136, 137, 138, 139, 140, 141, 142,\n",
       "       143, 144, 145, 146, 147, 148, 149, 150, 151, 152, 153, 154, 155,\n",
       "       156, 157, 158, 159, 160, 161, 162, 163, 164, 165, 166, 167, 168,\n",
       "       169, 170, 171, 172, 173, 174, 175, 176, 177, 178, 179, 180, 181,\n",
       "       182, 183, 184, 185, 186, 187, 188, 189, 190, 191, 192, 193, 194,\n",
       "       195, 196, 197, 198, 199, 200, 201, 202, 203, 204, 205, 206, 207,\n",
       "       208, 209, 210, 211, 212, 213, 214, 215, 216, 217, 218, 219, 220,\n",
       "       221, 222, 223, 224, 225, 226, 227, 228, 229, 230], dtype=int64)"
      ]
     },
     "execution_count": 12,
     "metadata": {},
     "output_type": "execute_result"
    }
   ],
   "source": [
    "df_fields['scales/iteration'][:]"
   ]
  },
  {
   "cell_type": "code",
   "execution_count": 50,
   "id": "8ec4f08e",
   "metadata": {},
   "outputs": [],
   "source": [
    "df.close()\n",
    "df_fields.close()"
   ]
  },
  {
   "cell_type": "code",
   "execution_count": 13,
   "id": "ca307e51",
   "metadata": {},
   "outputs": [
    {
     "ename": "IndentationError",
     "evalue": "expected an indented block (Temp/ipykernel_23808/717737035.py, line 1)",
     "output_type": "error",
     "traceback": [
      "\u001b[1;36m  File \u001b[1;32m\"C:\\Users\\alske\\AppData\\Local\\Temp/ipykernel_23808/717737035.py\"\u001b[1;36m, line \u001b[1;32m1\u001b[0m\n\u001b[1;33m    with \"\" as file:\u001b[0m\n\u001b[1;37m                    ^\u001b[0m\n\u001b[1;31mIndentationError\u001b[0m\u001b[1;31m:\u001b[0m expected an indented block\n"
     ]
    }
   ],
   "source": [
    "#with \"h5py.file()\" as file:\n",
    "#    file.(whatever)\n",
    "#    data = file['tasks/...'']\n",
    "# last line in with grouping closes file"
   ]
  },
  {
   "cell_type": "code",
   "execution_count": 71,
   "id": "feaaf900",
   "metadata": {},
   "outputs": [],
   "source": [
    "Temp = df['tasks/T'][6,:,:,:]"
   ]
  },
  {
   "cell_type": "code",
   "execution_count": 72,
   "id": "2b9979c6",
   "metadata": {},
   "outputs": [
    {
     "data": {
      "text/plain": [
       "<matplotlib.colorbar.Colorbar at 0x1d75ca87220>"
      ]
     },
     "execution_count": 72,
     "metadata": {},
     "output_type": "execute_result"
    },
    {
     "data": {
      "image/png": "[encoded data removed]",
      "text/plain": [
       "<Figure size 1440x720 with 2 Axes>"
      ]
     },
     "metadata": {
      "needs_background": "light"
     },
     "output_type": "display_data"
    }
   ],
   "source": [
    "plt.figure(figsize=(20,10)) #make larger\n",
    "plt.imshow(Temp[:,7,:],vmax=0)\n",
    "plt.colorbar()"
   ]
  },
  {
   "cell_type": "code",
   "execution_count": 73,
   "id": "0e2e2c99",
   "metadata": {},
   "outputs": [
    {
     "data": {
      "text/plain": [
       "-0.00023324870604064275"
      ]
     },
     "execution_count": 73,
     "metadata": {},
     "output_type": "execute_result"
    }
   ],
   "source": [
    "Temp.min()"
   ]
  },
  {
   "cell_type": "code",
   "execution_count": 42,
   "id": "2154a548",
   "metadata": {},
   "outputs": [
    {
     "ename": "AttributeError",
     "evalue": "'numpy.int64' object has no attribute 'unravel'",
     "output_type": "error",
     "traceback": [
      "\u001b[1;31m---------------------------------------------------------------------------\u001b[0m",
      "\u001b[1;31mAttributeError\u001b[0m                            Traceback (most recent call last)",
      "\u001b[1;32m~\\AppData\\Local\\Temp/ipykernel_23808/1705520730.py\u001b[0m in \u001b[0;36m<module>\u001b[1;34m\u001b[0m\n\u001b[1;32m----> 1\u001b[1;33m \u001b[0mTemp\u001b[0m\u001b[1;33m.\u001b[0m\u001b[0margmin\u001b[0m\u001b[1;33m(\u001b[0m\u001b[1;33m)\u001b[0m\u001b[1;33m.\u001b[0m\u001b[0munravel\u001b[0m\u001b[1;33m(\u001b[0m\u001b[1;33m)\u001b[0m\u001b[1;33m\u001b[0m\u001b[1;33m\u001b[0m\u001b[0m\n\u001b[0m",
      "\u001b[1;31mAttributeError\u001b[0m: 'numpy.int64' object has no attribute 'unravel'"
     ]
    }
   ],
   "source": [
    "Temp.argmin() #turn this into 3D index - unravel, then slice in one of those directions to see plane where min is"
   ]
  },
  {
   "cell_type": "code",
   "execution_count": 74,
   "id": "063db491",
   "metadata": {},
   "outputs": [
    {
     "data": {
      "text/plain": [
       "0.0033052682870301914"
      ]
     },
     "execution_count": 74,
     "metadata": {},
     "output_type": "execute_result"
    }
   ],
   "source": [
    "T_fields = df_fields['tasks/T'][:]\n",
    "T_fields.min()"
   ]
  },
  {
   "cell_type": "code",
   "execution_count": 27,
   "id": "3899ec6e",
   "metadata": {},
   "outputs": [
    {
     "data": {
      "text/plain": [
       "0.0033052682870301914"
      ]
     },
     "execution_count": 27,
     "metadata": {},
     "output_type": "execute_result"
    }
   ],
   "source": [
    "T = df['tasks/T'][:]\n",
    "T.min()"
   ]
  },
  {
   "cell_type": "code",
   "execution_count": 22,
   "id": "64706fec",
   "metadata": {},
   "outputs": [
    {
     "data": {
      "text/plain": [
       "-0.18819441923778274"
      ]
     },
     "execution_count": 22,
     "metadata": {},
     "output_type": "execute_result"
    }
   ],
   "source": [
    "rho_fields.min()"
   ]
  },
  {
   "cell_type": "code",
   "execution_count": null,
   "id": "a6554e39",
   "metadata": {},
   "outputs": [],
   "source": []
  }
 ],
 "metadata": {
  "kernelspec": {
   "display_name": "Python 3 (ipykernel)",
   "language": "python",
   "name": "python3"
  },
  "language_info": {
   "codemirror_mode": {
    "name": "ipython",
    "version": 3
   },
   "file_extension": ".py",
   "mimetype": "text/x-python",
   "name": "python",
   "nbconvert_exporter": "python",
   "pygments_lexer": "ipython3",
   "version": "3.9.7"
  }
 },
 "nbformat": 4,
 "nbformat_minor": 5
}
