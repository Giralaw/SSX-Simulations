{
 "cells": [
  {
   "cell_type": "code",
   "execution_count": 80,
   "id": "7cbed3f7",
   "metadata": {},
   "outputs": [],
   "source": [
    "import matplotlib.pyplot as plt\n",
    "import numpy as np\n",
    "import h5py\n",
    "import dedalus.public as d3 #wow, I just had to call it dedalus.public\n",
    "# Had been writing dedalus3 and assuming there were actual errors with jupyter notebook launch\n",
    "# since it always makes so many complaints\n",
    "# Well now I'm just going to ignore the remaining jupyter notebook weirdness"
   ]
  },
  {
   "cell_type": "code",
   "execution_count": 265,
   "id": "2f82f45d",
   "metadata": {},
   "outputs": [],
   "source": [
    "df = h5py.File(\"scratch/checkpoints2/checkpoints2_s3.h5\",'r')\n",
    "df_fields = h5py.File(\"scratch/fields_two/fields_two_s3.h5\",'r')"
   ]
  },
  {
   "cell_type": "code",
   "execution_count": 266,
   "id": "1abdaafd",
   "metadata": {},
   "outputs": [],
   "source": [
    "lnrho = df['tasks/lnrho'][:]"
   ]
  },
  {
   "cell_type": "code",
   "execution_count": 267,
   "id": "475fc31e",
   "metadata": {},
   "outputs": [],
   "source": [
    "rho_fields = df_fields['tasks/rho'][:]"
   ]
  },
  {
   "cell_type": "code",
   "execution_count": 268,
   "id": "6a7fed88",
   "metadata": {},
   "outputs": [
    {
     "data": {
      "text/plain": [
       "<KeysViewHDF5 ['A', 'T', 'lnrho', 'phi', 'tau_A', 'v']>"
      ]
     },
     "execution_count": 268,
     "metadata": {},
     "output_type": "execute_result"
    }
   ],
   "source": [
    "df['tasks'].keys()"
   ]
  },
  {
   "cell_type": "code",
   "execution_count": 269,
   "id": "de95165c",
   "metadata": {},
   "outputs": [],
   "source": [
    "rho = np.exp(lnrho)"
   ]
  },
  {
   "cell_type": "code",
   "execution_count": 270,
   "id": "4d9ec474",
   "metadata": {},
   "outputs": [
    {
     "data": {
      "text/plain": [
       "1.2468088330336274e-05"
      ]
     },
     "execution_count": 270,
     "metadata": {},
     "output_type": "execute_result"
    }
   ],
   "source": [
    "rho.min()"
   ]
  },
  {
   "cell_type": "code",
   "execution_count": 271,
   "id": "59bf9fa2",
   "metadata": {},
   "outputs": [
    {
     "data": {
      "text/plain": [
       "-2.135752680235223"
      ]
     },
     "execution_count": 271,
     "metadata": {},
     "output_type": "execute_result"
    }
   ],
   "source": [
    "rho_fields.min()"
   ]
  },
  {
   "cell_type": "code",
   "execution_count": 272,
   "id": "e9ac5f68",
   "metadata": {},
   "outputs": [
    {
     "data": {
      "text/plain": [
       "array([0.26090211, 0.26296168, 0.26475183, 0.26631217, 0.26772356,\n",
       "       0.26901671, 0.270218  , 0.27135471, 0.27243233, 0.27344179])"
      ]
     },
     "execution_count": 272,
     "metadata": {},
     "output_type": "execute_result"
    }
   ],
   "source": [
    "df['scales/sim_time'][:]"
   ]
  },
  {
   "cell_type": "code",
   "execution_count": 273,
   "id": "fa670b4d",
   "metadata": {},
   "outputs": [
    {
     "data": {
      "text/plain": [
       "array([200, 210, 220, 230, 240, 250, 260, 270, 280, 290])"
      ]
     },
     "execution_count": 273,
     "metadata": {},
     "output_type": "execute_result"
    }
   ],
   "source": [
    "df['scales/iteration'][:]"
   ]
  },
  {
   "cell_type": "code",
   "execution_count": 274,
   "id": "a4716a40",
   "metadata": {},
   "outputs": [
    {
     "data": {
      "text/plain": [
       "array([200, 210, 220, 230, 240, 250, 260, 270, 280, 290])"
      ]
     },
     "execution_count": 274,
     "metadata": {},
     "output_type": "execute_result"
    }
   ],
   "source": [
    "df_fields['scales/iteration'][:]"
   ]
  },
  {
   "cell_type": "code",
   "execution_count": 154,
   "id": "ca307e51",
   "metadata": {},
   "outputs": [],
   "source": [
    "#with \"h5py.file()\" as file:\n",
    "#    file.(whatever)\n",
    "#    data = file['tasks/...'']\n",
    "# last line in with grouping closes file"
   ]
  },
  {
   "cell_type": "code",
   "execution_count": 261,
   "id": "0d9a5ec3",
   "metadata": {},
   "outputs": [
    {
     "name": "stdout",
     "output_type": "stream",
     "text": [
      "rad is 1.1792476415070754\n",
      "radmax is 1.4142135623730951\n",
      "rad is 1.0307764064044151\n",
      "radmax is 1.4142135623730951\n",
      "rad is 1.0077822185373186\n",
      "radmax is 1.4142135623730951\n",
      "rad is 1.118033988749895\n",
      "radmax is 1.4142135623730951\n",
      "rad is 1.3707320124663318\n",
      "radmax is 1.4142135623730951\n",
      "rad is 1.1625672023586422\n",
      "radmax is 1.4142135623730951\n",
      "rad is 0.9882117688026186\n",
      "radmax is 1.4142135623730951\n",
      "rad is 0.9395810236483068\n",
      "radmax is 1.4142135623730951\n",
      "rad is 1.0625\n",
      "radmax is 1.4142135623730951\n",
      "rad is 1.2823927830426993\n",
      "radmax is 1.4142135623730951\n",
      "rad is 1.1524430571616109\n",
      "radmax is 1.4142135623730951\n",
      "rad is 0.9519716382329886\n",
      "radmax is 1.4142135623730951\n",
      "rad is 0.8772293029761374\n",
      "radmax is 1.4142135623730951\n",
      "rad is 0.978279740156158\n",
      "radmax is 1.4142135623730951\n",
      "rad is 1.194060823408925\n",
      "radmax is 1.4142135623730951\n",
      "rad is 1.1490485194281397\n",
      "radmax is 1.4142135623730951\n",
      "rad is 0.8948638164547721\n",
      "radmax is 1.4142135623730951\n",
      "rad is 0.8125\n",
      "radmax is 1.4142135623730951\n",
      "rad is 0.894863816454772\n",
      "radmax is 1.4142135623730951\n",
      "rad is 1.1057378758096332\n",
      "radmax is 1.4142135623730951\n",
      "rad is 1.1057378758096332\n",
      "radmax is 1.4142135623730951\n",
      "rad is 0.8682777493406127\n",
      "radmax is 1.4142135623730951\n",
      "rad is 0.7525996611745185\n",
      "radmax is 1.4142135623730951\n",
      "rad is 0.8125\n",
      "radmax is 1.4142135623730951\n",
      "rad is 1.0606601717798212\n",
      "radmax is 1.4142135623730951\n",
      "rad is 1.1127808634228036\n",
      "radmax is 1.4142135623730951\n",
      "rad is 0.8500919067959652\n",
      "radmax is 1.4142135623730951\n",
      "rad is 0.6987712429686843\n",
      "radmax is 1.4142135623730951\n",
      "rad is 0.7551903733496608\n",
      "radmax is 1.4142135623730951\n",
      "rad is 0.9722718241315028\n",
      "radmax is 1.4142135623730951\n",
      "rad is 1.1267347735824966\n",
      "radmax is 1.4142135623730951\n",
      "rad is 0.8408515029421069\n",
      "radmax is 1.4142135623730951\n",
      "rad is 0.6373774391990981\n",
      "radmax is 1.4142135623730951\n",
      "rad is 0.673145600891813\n",
      "radmax is 1.4142135623730951\n",
      "rad is 0.8838834764831845\n",
      "radmax is 1.4142135623730951\n",
      "rad is 1.1473474844178637\n",
      "radmax is 1.4142135623730951\n",
      "rad is 0.795495128834866\n",
      "radmax is 1.4142135623730951\n",
      "rad is 0.5929270612815711\n",
      "radmax is 1.4142135623730951\n",
      "rad is 0.5929270612815711\n",
      "radmax is 1.4142135623730951\n",
      "rad is 0.795495128834866\n",
      "radmax is 1.4142135623730951\n",
      "rad is 1.118033988749895\n",
      "radmax is 1.4142135623730951\n",
      "rad is 0.8003905296791061\n",
      "radmax is 1.4142135623730951\n",
      "rad is 0.5590169943749475\n",
      "radmax is 1.4142135623730951\n",
      "rad is 0.5153882032022076\n",
      "radmax is 1.4142135623730951\n",
      "rad is 0.7525996611745185\n",
      "radmax is 1.4142135623730951\n",
      "rad is 1.0625\n",
      "radmax is 1.4142135623730951\n",
      "rad is 0.8149003006503311\n",
      "radmax is 1.4142135623730951\n",
      "rad is 0.5376453291901643\n",
      "radmax is 1.4142135623730951\n",
      "rad is 0.4550068680800324\n",
      "radmax is 1.4142135623730951\n",
      "rad is 0.6643841132959156\n",
      "radmax is 1.4142135623730951\n",
      "rad is 0.9782797401561578\n",
      "radmax is 1.4142135623730951\n",
      "rad is 0.8385254915624212\n",
      "radmax is 1.4142135623730951\n",
      "rad is 0.48814060474416593\n",
      "radmax is 1.4142135623730951\n",
      "rad is 0.3801726581436387\n",
      "radmax is 1.4142135623730951\n",
      "rad is 0.5762215285808054\n",
      "radmax is 1.4142135623730951\n",
      "rad is 0.8948638164547721\n",
      "radmax is 1.4142135623730951\n",
      "rad is 0.8125000000000001\n",
      "radmax is 1.4142135623730951\n",
      "rad is 0.48814060474416593\n",
      "radmax is 1.4142135623730951\n",
      "rad is 0.3125000000000001\n",
      "radmax is 1.4142135623730951\n",
      "rad is 0.48814060474416576\n",
      "radmax is 1.4142135623730951\n",
      "rad is 0.8705242673240076\n",
      "radmax is 1.4142135623730951\n",
      "rad is 0.8500919067959652\n",
      "radmax is 1.4142135623730951\n",
      "rad is 0.5038911092686593\n",
      "radmax is 1.4142135623730951\n",
      "rad is 0.2576941016011038\n",
      "radmax is 1.4142135623730951\n",
      "rad is 0.4506939094329985\n",
      "radmax is 1.4142135623730951\n",
      "rad is 0.7905694150420949\n",
      "radmax is 1.4142135623730951\n",
      "rad is 0.8948638164547721\n",
      "radmax is 1.4142135623730951\n",
      "rad is 0.5340002340823456\n",
      "radmax is 1.4142135623730951\n",
      "rad is 0.19764235376052364\n",
      "radmax is 1.4142135623730951\n",
      "rad is 0.3644344934278312\n",
      "radmax is 1.4142135623730951\n",
      "rad is 0.7126096406869612\n",
      "radmax is 1.4142135623730951\n",
      "rad is 0.9457966219013473\n",
      "radmax is 1.4142135623730951\n",
      "rad is 0.5153882032022076\n",
      "radmax is 1.4142135623730951\n",
      "rad is 0.1767766952966369\n",
      "radmax is 1.4142135623730951\n",
      "rad is 0.2795084971874737\n",
      "radmax is 1.4142135623730951\n",
      "rad is 0.6373774391990983\n",
      "radmax is 1.4142135623730951\n",
      "rad is 0.9395810236483068\n",
      "radmax is 1.4142135623730951\n",
      "rad is 0.5659615711335886\n",
      "radmax is 1.4142135623730951\n",
      "rad is 0.19764235376052364\n",
      "radmax is 1.4142135623730951\n",
      "rad is 0.19764235376052375\n",
      "radmax is 1.4142135623730951\n",
      "rad is 0.6281172263200558\n",
      "radmax is 1.4142135623730951\n",
      "rad is 1.0\n",
      "radmax is 1.4142135623730951\n",
      "rad is 0.625\n",
      "radmax is 1.4142135623730951\n",
      "rad is 0.25\n",
      "radmax is 1.4142135623730951\n",
      "rad is 0.1875\n",
      "radmax is 1.4142135623730951\n",
      "rad is 0.5625\n",
      "radmax is 1.4142135623730951\n",
      "rad is 0.9375\n",
      "radmax is 1.4142135623730951\n",
      "rad is 0.6903350635742038\n",
      "radmax is 1.4142135623730951\n",
      "rad is 0.2576941016011038\n",
      "radmax is 1.4142135623730951\n",
      "rad is 0.13975424859373686\n",
      "radmax is 1.4142135623730951\n",
      "rad is 0.5038911092686593\n",
      "radmax is 1.4142135623730951\n",
      "rad is 0.8772293029761373\n",
      "radmax is 1.4142135623730951\n",
      "rad is 0.6987712429686843\n",
      "radmax is 1.4142135623730951\n",
      "rad is 0.3365728004459066\n",
      "radmax is 1.4142135623730951\n",
      "rad is 0.13975424859373686\n",
      "radmax is 1.4142135623730951\n",
      "rad is 0.4550068680800324\n",
      "radmax is 1.4142135623730951\n",
      "rad is 0.8838834764831842\n",
      "radmax is 1.4142135623730951\n",
      "rad is 0.7730823048033113\n",
      "radmax is 1.4142135623730951\n",
      "rad is 0.4192627457812106\n",
      "radmax is 1.4142135623730951\n",
      "rad is 0.1875\n",
      "radmax is 1.4142135623730951\n",
      "rad is 0.4759858191164943\n",
      "radmax is 1.4142135623730951\n",
      "rad is 0.8338540040078959\n",
      "radmax is 1.4142135623730951\n",
      "rad is 0.8500919067959652\n",
      "radmax is 1.4142135623730951\n",
      "rad is 0.5038911092686593\n",
      "radmax is 1.4142135623730951\n",
      "rad is 0.25\n",
      "radmax is 1.4142135623730951\n",
      "rad is 0.4506939094329985\n",
      "radmax is 1.4142135623730951\n",
      "rad is 0.7905694150420949\n",
      "radmax is 1.4142135623730951\n",
      "rad is 0.9291292967074066\n",
      "radmax is 1.4142135623730951\n",
      "rad is 0.5376453291901642\n",
      "radmax is 1.4142135623730951\n",
      "rad is 0.3186887195995491\n",
      "radmax is 1.4142135623730951\n",
      "rad is 0.4419417382415922\n",
      "radmax is 1.4142135623730951\n",
      "rad is 0.7551903733496608\n",
      "radmax is 1.4142135623730951\n",
      "rad is 0.9519716382329885\n",
      "radmax is 1.4142135623730951\n",
      "rad is 0.6249999999999999\n",
      "radmax is 1.4142135623730951\n",
      "rad is 0.3952847075210472\n",
      "radmax is 1.4142135623730951\n",
      "rad is 0.4506939094329985\n",
      "radmax is 1.4142135623730951\n",
      "rad is 0.7831227553838541\n",
      "radmax is 1.4142135623730951\n",
      "rad is 1.034559084827928\n",
      "radmax is 1.4142135623730951\n",
      "rad is 0.7126096406869612\n",
      "radmax is 1.4142135623730951\n",
      "rad is 0.47598581911649424\n",
      "radmax is 1.4142135623730951\n",
      "rad is 0.5038911092686593\n",
      "radmax is 1.4142135623730951\n",
      "rad is 0.7629097259833566\n",
      "radmax is 1.4142135623730951\n",
      "rad is 1.118033988749895\n",
      "radmax is 1.4142135623730951\n",
      "rad is 0.8003905296791061\n",
      "radmax is 1.4142135623730951\n",
      "rad is 0.5340002340823456\n",
      "radmax is 1.4142135623730951\n",
      "rad is 0.5340002340823456\n",
      "radmax is 1.4142135623730951\n",
      "rad is 0.7525996611745185\n",
      "radmax is 1.4142135623730951\n",
      "rad is 1.0625\n",
      "radmax is 1.4142135623730951\n",
      "rad is 0.8408515029421069\n",
      "radmax is 1.4142135623730951\n",
      "rad is 0.6155536126122565\n",
      "radmax is 1.4142135623730951\n",
      "rad is 0.5762215285808054\n",
      "radmax is 1.4142135623730951\n",
      "rad is 0.7525996611745185\n",
      "radmax is 1.4142135623730951\n",
      "rad is 1.0933034802834938\n",
      "radmax is 1.4142135623730951\n",
      "rad is 0.9291292967074067\n",
      "radmax is 1.4142135623730951\n",
      "rad is 0.6987712429686845\n",
      "radmax is 1.4142135623730951\n",
      "rad is 0.6281172263200558\n",
      "radmax is 1.4142135623730951\n",
      "rad is 0.8003905296791062\n",
      "radmax is 1.4142135623730951\n",
      "rad is 1.0752906583803283\n",
      "radmax is 1.4142135623730951\n",
      "rad is 1.0174262872562316\n",
      "radmax is 1.4142135623730951\n",
      "rad is 0.7831227553838542\n",
      "radmax is 1.4142135623730951\n",
      "rad is 0.6903350635742038\n",
      "radmax is 1.4142135623730951\n",
      "rad is 0.8149003006503311\n",
      "radmax is 1.4142135623730951\n",
      "rad is 1.0643366478704002\n",
      "radmax is 1.4142135623730951\n",
      "rad is 1.1057378758096332\n",
      "radmax is 1.4142135623730951\n",
      "rad is 0.8385254915624212\n",
      "radmax is 1.4142135623730951\n",
      "rad is 0.75\n",
      "radmax is 1.4142135623730951\n",
      "rad is 0.838525491562421\n",
      "radmax is 1.4142135623730951\n",
      "rad is 1.0606601717798212\n",
      "radmax is 1.4142135623730951\n",
      "rad is 1.1490485194281397\n",
      "radmax is 1.4142135623730951\n",
      "rad is 0.9228014412645875\n",
      "radmax is 1.4142135623730951\n",
      "rad is 0.8149003006503311\n",
      "radmax is 1.4142135623730951\n",
      "rad is 0.8705242673240075\n",
      "radmax is 1.4142135623730951\n",
      "rad is 1.1057378758096332\n",
      "radmax is 1.4142135623730951\n",
      "rad is 1.237436867076458\n",
      "radmax is 1.4142135623730951\n",
      "rad is 1.0077822185373184\n",
      "radmax is 1.4142135623730951\n",
      "rad is 0.8838834764831842\n",
      "radmax is 1.4142135623730951\n",
      "rad is 0.9291292967074064\n",
      "radmax is 1.4142135623730951\n",
      "rad is 1.1127808634228034\n",
      "radmax is 1.4142135623730951\n",
      "rad is 1.3258252147247767\n",
      "radmax is 1.4142135623730951\n",
      "rad is 1.0933034802834938\n",
      "radmax is 1.4142135623730951\n",
      "rad is 0.9457966219013473\n",
      "radmax is 1.4142135623730951\n",
      "rad is 0.9702609185162515\n",
      "radmax is 1.4142135623730951\n",
      "rad is 1.1267347735824969\n",
      "radmax is 1.4142135623730951\n"
     ]
    }
   ],
   "source": [
    "# Some toying around to figure out what x and xVal are, and r\n",
    "\n",
    "r = 1\n",
    "length = 10\n",
    "nx = 32 #formerly 32 x 32 x 160? Current plan is 64 x 64 x 320 or 640\n",
    "ny = 32\n",
    "nz = 160\n",
    "mesh = None\n",
    "coords = d3.CartesianCoordinates('x', 'y','z')\n",
    "dist = d3.Distributor(coords, dtype=np.float64, mesh = mesh)\n",
    "xbasis = d3.RealFourier(coords['x'], size=nx, bounds=(-r, r))\n",
    "ybasis = d3.RealFourier(coords['y'], size=ny, bounds=(-r, r))\n",
    "zbasis = d3.RealFourier(coords['z'], size=nz, bounds=(0, length))\n",
    "x,y,z = dist.local_grids(xbasis,ybasis,zbasis)\n",
    "\n",
    "p = 0\n",
    "radmax = 0\n",
    "# print(x) # prints triple array with single list singleton lists of -1 to  0.9375, 32 elts\n",
    "# print(z) # similar, 160 elts, from 0 to 9.9375\n",
    "# print(xbasis)\n",
    "# print([[i,0,0] for i in range(x.shape[0])]) # prints list of [0,0,0] thru to [31,0,0]\n",
    "#print(x.shape[0], x.shape[1], x.shape[2]) #prints 32, 1, 1\n",
    "# print(z.shape[0], z.shape[1], z.shape[2]) #prints 1, 1, 160\n",
    "# print(x[-1,0,0])\n",
    "# print(type(x)) # class 'numpy.ndarray' (3D)\n",
    "# print(x)\n",
    "# print(type([1,0,0])) # class list (duh)\n",
    "# print(x[1,0,0]) #prints -0.9375 - must be \n",
    "#y = np.ndarray\n",
    "#y = [[[0]],[[1]],[[2]]] # not how instantiating a numpy array works\n",
    "# print(y)\n",
    "#y = x\n",
    "#print(x)\n",
    "# print(\"y mult is\", y[1,0,0])\n",
    "# print(\"x mult is\", x[1,0,0])\n",
    "#print(x)\n",
    "#print(y)\n",
    "#print(z)\n",
    "for i in range(x.shape[0]):\n",
    "    xVal = x[i,0,0]\n",
    "    # print(\"xval is\", xVal)\n",
    "    for j in range(y.shape[1]):\n",
    "        yVal = y[0,j,0]\n",
    "        # print(\"yVal is\", yVal)\n",
    "        for k in range(z.shape[2]):\n",
    "            zVal = z[0,0,k]\n",
    "            rad = np.sqrt(xVal**2 + yVal**2)\n",
    "            p += 1\n",
    "            if p % 1000 == 0:\n",
    "                # print(\"xVal is\", xVal)\n",
    "                # print(\"x is\", x)\n",
    "                # print(\"[i,0,0] is\", [i,0,0])\n",
    "                # print(\"yVal is\", yVal)\n",
    "                # print(\"zVal is\", zVal) # single number from 0 to 10\n",
    "                # print(\"z is\", z) # full 160 list\n",
    "                print(\"rad is\", rad)\n",
    "                print(\"radmax is\", radmax)\n",
    "            radmax = max(rad, radmax)"
   ]
  },
  {
   "cell_type": "code",
   "execution_count": 275,
   "id": "feaaf900",
   "metadata": {},
   "outputs": [],
   "source": [
    "Density = df['tasks/lnrho'][9,:,:,:]"
   ]
  },
  {
   "cell_type": "code",
   "execution_count": 279,
   "id": "2b9979c6",
   "metadata": {},
   "outputs": [
    {
     "data": {
      "text/plain": [
       "<matplotlib.colorbar.Colorbar at 0x7fe5286af950>"
      ]
     },
     "execution_count": 279,
     "metadata": {},
     "output_type": "execute_result"
    },
    {
     "data": {
      "image/png": "[encoded data removed]",
      "text/plain": [
       "<Figure size 2000x1000 with 2 Axes>"
      ]
     },
     "metadata": {},
     "output_type": "display_data"
    }
   ],
   "source": [
    "plt.figure(figsize=(20,10)) #make larger\n",
    "plt.imshow(np.exp(Density[:,5,:])) #vmax = 0.01\n",
    "plt.colorbar()"
   ]
  },
  {
   "cell_type": "code",
   "execution_count": 280,
   "id": "5e46b717",
   "metadata": {},
   "outputs": [],
   "source": [
    "Temp = df['tasks/T'][1,:,:,:]"
   ]
  },
  {
   "cell_type": "code",
   "execution_count": 290,
   "id": "335a7562",
   "metadata": {},
   "outputs": [
    {
     "data": {
      "text/plain": [
       "<matplotlib.colorbar.Colorbar at 0x7fe52804b810>"
      ]
     },
     "execution_count": 290,
     "metadata": {},
     "output_type": "execute_result"
    },
    {
     "data": {
      "image/png": "[encoded data removed]",
      "text/plain": [
       "<Figure size 2000x1000 with 2 Axes>"
      ]
     },
     "metadata": {},
     "output_type": "display_data"
    }
   ],
   "source": [
    "plt.figure(figsize=(20,10)) #make larger\n",
    "plt.imshow(Temp[:,0,:]) #vmax = 0.01\n",
    "plt.colorbar()"
   ]
  },
  {
   "cell_type": "code",
   "execution_count": 133,
   "id": "0e2e2c99",
   "metadata": {},
   "outputs": [
    {
     "data": {
      "text/plain": [
       "0.007560405778082576"
      ]
     },
     "execution_count": 133,
     "metadata": {},
     "output_type": "execute_result"
    }
   ],
   "source": [
    "np.exp(Density).min()"
   ]
  },
  {
   "cell_type": "code",
   "execution_count": 134,
   "id": "2154a548",
   "metadata": {},
   "outputs": [
    {
     "data": {
      "text/plain": [
       "33280"
      ]
     },
     "execution_count": 134,
     "metadata": {},
     "output_type": "execute_result"
    }
   ],
   "source": [
    "np.exp(Density).argmin() #turn this into 3D index - unravel, then slice in one of those directions to see plane where min is"
   ]
  },
  {
   "cell_type": "code",
   "execution_count": 135,
   "id": "063db491",
   "metadata": {},
   "outputs": [
    {
     "data": {
      "text/plain": [
       "-0.013394393850158778"
      ]
     },
     "execution_count": 135,
     "metadata": {},
     "output_type": "execute_result"
    }
   ],
   "source": [
    "T_fields = df_fields['tasks/T'][:]\n",
    "T_fields.min()"
   ]
  },
  {
   "cell_type": "code",
   "execution_count": 136,
   "id": "3899ec6e",
   "metadata": {},
   "outputs": [
    {
     "data": {
      "text/plain": [
       "-0.028116624073539598"
      ]
     },
     "execution_count": 136,
     "metadata": {},
     "output_type": "execute_result"
    }
   ],
   "source": [
    "T = df['tasks/T'][:]\n",
    "T.min()"
   ]
  },
  {
   "cell_type": "code",
   "execution_count": 137,
   "id": "64706fec",
   "metadata": {},
   "outputs": [
    {
     "data": {
      "text/plain": [
       "-0.7194252063844384"
      ]
     },
     "execution_count": 137,
     "metadata": {},
     "output_type": "execute_result"
    }
   ],
   "source": [
    "rho_fields.min()"
   ]
  },
  {
   "cell_type": "code",
   "execution_count": 283,
   "id": "a6554e39",
   "metadata": {},
   "outputs": [],
   "source": [
    "df.close()\n",
    "df_fields.close()"
   ]
  },
  {
   "cell_type": "code",
   "execution_count": null,
   "id": "eb123bd3",
   "metadata": {},
   "outputs": [],
   "source": []
  }
 ],
 "metadata": {
  "kernelspec": {
   "display_name": "Python 3 (ipykernel)",
   "language": "python",
   "name": "python3"
  },
  "language_info": {
   "codemirror_mode": {
    "name": "ipython",
    "version": 3
   },
   "file_extension": ".py",
   "mimetype": "text/x-python",
   "name": "python",
   "nbconvert_exporter": "python",
   "pygments_lexer": "ipython3",
   "version": "3.11.3"
  }
 },
 "nbformat": 4,
 "nbformat_minor": 5
}
