{
 "cells": [
  {
   "cell_type": "code",
   "execution_count": 1,
   "id": "7cbed3f7",
   "metadata": {},
   "outputs": [],
   "source": [
    "import matplotlib.pyplot as plt\n",
    "import numpy as np\n",
    "import h5py"
   ]
  },
  {
   "cell_type": "code",
   "execution_count": 29,
   "id": "2f82f45d",
   "metadata": {},
   "outputs": [],
   "source": [
    "df = h5py.File(\"scratch/checkpoints2/checkpoints2_s10.h5\",'r')"
   ]
  },
  {
   "cell_type": "code",
   "execution_count": 30,
   "id": "1abdaafd",
   "metadata": {},
   "outputs": [],
   "source": [
    "lnrho = df['tasks/lnrho'][:]"
   ]
  },
  {
   "cell_type": "code",
   "execution_count": 31,
   "id": "6a7fed88",
   "metadata": {},
   "outputs": [
    {
     "data": {
      "text/plain": [
       "<KeysViewHDF5 ['A', 'T', 'lnrho', 'phi', 'tau_A', 'v']>"
      ]
     },
     "execution_count": 31,
     "metadata": {},
     "output_type": "execute_result"
    }
   ],
   "source": [
    "df['tasks'].keys()"
   ]
  },
  {
   "cell_type": "code",
   "execution_count": 32,
   "id": "de95165c",
   "metadata": {},
   "outputs": [],
   "source": [
    "rho = np.exp(lnrho)"
   ]
  },
  {
   "cell_type": "code",
   "execution_count": 33,
   "id": "4d9ec474",
   "metadata": {},
   "outputs": [
    {
     "data": {
      "text/plain": [
       "0.007445584802455714"
      ]
     },
     "execution_count": 33,
     "metadata": {},
     "output_type": "execute_result"
    }
   ],
   "source": [
    "rho.min()"
   ]
  },
  {
   "cell_type": "code",
   "execution_count": 34,
   "id": "e9ac5f68",
   "metadata": {},
   "outputs": [
    {
     "data": {
      "text/plain": [
       "array([0.16199974, 0.16393769, 0.16587564, 0.16781359, 0.16975154,\n",
       "       0.17168949, 0.17362744, 0.17556539, 0.17750334, 0.1795457 ])"
      ]
     },
     "execution_count": 34,
     "metadata": {},
     "output_type": "execute_result"
    }
   ],
   "source": [
    "df['scales/sim_time'][:]"
   ]
  },
  {
   "cell_type": "code",
   "execution_count": 35,
   "id": "fa670b4d",
   "metadata": {},
   "outputs": [
    {
     "data": {
      "text/plain": [
       "array([90, 91, 92, 93, 94, 95, 96, 97, 98, 99], dtype=int64)"
      ]
     },
     "execution_count": 35,
     "metadata": {},
     "output_type": "execute_result"
    }
   ],
   "source": [
    "df['scales/iteration'][:]"
   ]
  },
  {
   "cell_type": "code",
   "execution_count": 11,
   "id": "565cd83b",
   "metadata": {},
   "outputs": [],
   "source": [
    "df_fields.close()"
   ]
  },
  {
   "cell_type": "code",
   "execution_count": 12,
   "id": "8ec4f08e",
   "metadata": {},
   "outputs": [],
   "source": [
    "df.close()"
   ]
  },
  {
   "cell_type": "code",
   "execution_count": 13,
   "id": "ca307e51",
   "metadata": {},
   "outputs": [
    {
     "ename": "IndentationError",
     "evalue": "expected an indented block (Temp/ipykernel_23808/717737035.py, line 1)",
     "output_type": "error",
     "traceback": [
      "\u001b[1;36m  File \u001b[1;32m\"C:\\Users\\alske\\AppData\\Local\\Temp/ipykernel_23808/717737035.py\"\u001b[1;36m, line \u001b[1;32m1\u001b[0m\n\u001b[1;33m    with \"\" as file:\u001b[0m\n\u001b[1;37m                    ^\u001b[0m\n\u001b[1;31mIndentationError\u001b[0m\u001b[1;31m:\u001b[0m expected an indented block\n"
     ]
    }
   ],
   "source": [
    "with \"h5py.file()\" as file:\n",
    "    file.(whatever)\n",
    "    data = file['tasks/...'']\n",
    "# last line in with grouping closes file"
   ]
  },
  {
   "cell_type": "code",
   "execution_count": 49,
   "id": "feaaf900",
   "metadata": {},
   "outputs": [],
   "source": [
    "Temp = df['tasks/T'][-1,:,:,:]"
   ]
  },
  {
   "cell_type": "code",
   "execution_count": 50,
   "id": "2b9979c6",
   "metadata": {},
   "outputs": [
    {
     "data": {
      "text/plain": [
       "<matplotlib.colorbar.Colorbar at 0x1f1fb408e50>"
      ]
     },
     "execution_count": 50,
     "metadata": {},
     "output_type": "execute_result"
    },
    {
     "data": {
      "image/png": "[encoded data removed]",
      "text/plain": [
       "<Figure size 1440x720 with 2 Axes>"
      ]
     },
     "metadata": {
      "needs_background": "light"
     },
     "output_type": "display_data"
    }
   ],
   "source": [
    "plt.figure(figsize=(20,10)) #make larger\n",
    "plt.imshow(Temp[:,7,:],vmax=0)\n",
    "plt.colorbar()"
   ]
  },
  {
   "cell_type": "code",
   "execution_count": 51,
   "id": "0e2e2c99",
   "metadata": {},
   "outputs": [
    {
     "data": {
      "text/plain": [
       "0.0004727793260856164"
      ]
     },
     "execution_count": 51,
     "metadata": {},
     "output_type": "execute_result"
    }
   ],
   "source": [
    "Temp.min()"
   ]
  },
  {
   "cell_type": "code",
   "execution_count": 42,
   "id": "2154a548",
   "metadata": {},
   "outputs": [
    {
     "ename": "AttributeError",
     "evalue": "'numpy.int64' object has no attribute 'unravel'",
     "output_type": "error",
     "traceback": [
      "\u001b[1;31m---------------------------------------------------------------------------\u001b[0m",
      "\u001b[1;31mAttributeError\u001b[0m                            Traceback (most recent call last)",
      "\u001b[1;32m~\\AppData\\Local\\Temp/ipykernel_23808/1705520730.py\u001b[0m in \u001b[0;36m<module>\u001b[1;34m\u001b[0m\n\u001b[1;32m----> 1\u001b[1;33m \u001b[0mTemp\u001b[0m\u001b[1;33m.\u001b[0m\u001b[0margmin\u001b[0m\u001b[1;33m(\u001b[0m\u001b[1;33m)\u001b[0m\u001b[1;33m.\u001b[0m\u001b[0munravel\u001b[0m\u001b[1;33m(\u001b[0m\u001b[1;33m)\u001b[0m\u001b[1;33m\u001b[0m\u001b[1;33m\u001b[0m\u001b[0m\n\u001b[0m",
      "\u001b[1;31mAttributeError\u001b[0m: 'numpy.int64' object has no attribute 'unravel'"
     ]
    }
   ],
   "source": [
    "Temp.argmin() #turn this into 3D index - unravel, then slice in one of those directions to see plane where min is"
   ]
  },
  {
   "cell_type": "code",
   "execution_count": 52,
   "id": "44c8943a",
   "metadata": {},
   "outputs": [],
   "source": [
    "df = h5py.File(\"DataFolders/D3_SSX_Run1/fields_two/fields_two_s1.h5\",'r')"
   ]
  },
  {
   "cell_type": "code",
   "execution_count": 54,
   "id": "063db491",
   "metadata": {},
   "outputs": [],
   "source": [
    "T = df['tasks/T'][:]"
   ]
  },
  {
   "cell_type": "code",
   "execution_count": 55,
   "id": "3899ec6e",
   "metadata": {},
   "outputs": [
    {
     "data": {
      "text/plain": [
       "-0.004915055097796994"
      ]
     },
     "execution_count": 55,
     "metadata": {},
     "output_type": "execute_result"
    }
   ],
   "source": [
    "T.min()"
   ]
  },
  {
   "cell_type": "code",
   "execution_count": null,
   "id": "64706fec",
   "metadata": {},
   "outputs": [],
   "source": []
  }
 ],
 "metadata": {
  "kernelspec": {
   "display_name": "Python 3 (ipykernel)",
   "language": "python",
   "name": "python3"
  },
  "language_info": {
   "codemirror_mode": {
    "name": "ipython",
    "version": 3
   },
   "file_extension": ".py",
   "mimetype": "text/x-python",
   "name": "python",
   "nbconvert_exporter": "python",
   "pygments_lexer": "ipython3",
   "version": "3.9.7"
  }
 },
 "nbformat": 4,
 "nbformat_minor": 5
}
